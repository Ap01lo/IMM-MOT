{
 "cells": [
  {
   "cell_type": "code",
   "execution_count": 4,
   "metadata": {},
   "outputs": [
    {
     "ename": "AssertionError",
     "evalue": "Database version not found: E:\\lxhLearning\\学习资料--研\\自动驾驶\nuscenes\\v1.0-trainval",
     "output_type": "error",
     "traceback": [
      "\u001b[1;31m---------------------------------------------------------------------------\u001b[0m",
      "\u001b[1;31mAssertionError\u001b[0m                            Traceback (most recent call last)",
      "\u001b[1;32m~\\AppData\\Local\\Temp\\ipykernel_27772\\949128553.py\u001b[0m in \u001b[0;36m<module>\u001b[1;34m\u001b[0m\n\u001b[0;32m      4\u001b[0m \u001b[1;32mfrom\u001b[0m \u001b[0mpyquaternion\u001b[0m \u001b[1;32mimport\u001b[0m \u001b[0mQuaternion\u001b[0m\u001b[1;33m\u001b[0m\u001b[1;33m\u001b[0m\u001b[0m\n\u001b[0;32m      5\u001b[0m \u001b[1;31m# NuScenes path\u001b[0m\u001b[1;33m\u001b[0m\u001b[1;33m\u001b[0m\u001b[1;33m\u001b[0m\u001b[0m\n\u001b[1;32m----> 6\u001b[1;33m \u001b[0mnusc\u001b[0m \u001b[1;33m=\u001b[0m \u001b[0mNuScenes\u001b[0m\u001b[1;33m(\u001b[0m\u001b[0mversion\u001b[0m\u001b[1;33m=\u001b[0m\u001b[1;34m'v1.0-trainval'\u001b[0m\u001b[1;33m,\u001b[0m \u001b[0mdataroot\u001b[0m\u001b[1;33m=\u001b[0m\u001b[1;34m'E:\\lxhLearning\\学习资料--研\\自动驾驶\\nuscenes'\u001b[0m\u001b[1;33m,\u001b[0m \u001b[0mverbose\u001b[0m\u001b[1;33m=\u001b[0m\u001b[1;32mTrue\u001b[0m\u001b[1;33m)\u001b[0m\u001b[1;33m\u001b[0m\u001b[1;33m\u001b[0m\u001b[0m\n\u001b[0m\u001b[0;32m      7\u001b[0m \u001b[0mnuscExp\u001b[0m \u001b[1;33m=\u001b[0m \u001b[0mNuScenesExplorer\u001b[0m\u001b[1;33m(\u001b[0m\u001b[0mnusc\u001b[0m\u001b[1;33m)\u001b[0m\u001b[1;33m\u001b[0m\u001b[1;33m\u001b[0m\u001b[0m\n",
      "\u001b[1;32me:\\lxhstudysoftware\\conda3\\envs\\mypolymot\\lib\\site-packages\\nuscenes\\nuscenes.py\u001b[0m in \u001b[0;36m__init__\u001b[1;34m(self, version, dataroot, verbose, map_resolution)\u001b[0m\n\u001b[0;32m     60\u001b[0m                             'ego_pose', 'log', 'scene', 'sample', 'sample_data', 'sample_annotation', 'map']\n\u001b[0;32m     61\u001b[0m \u001b[1;33m\u001b[0m\u001b[0m\n\u001b[1;32m---> 62\u001b[1;33m         \u001b[1;32massert\u001b[0m \u001b[0mosp\u001b[0m\u001b[1;33m.\u001b[0m\u001b[0mexists\u001b[0m\u001b[1;33m(\u001b[0m\u001b[0mself\u001b[0m\u001b[1;33m.\u001b[0m\u001b[0mtable_root\u001b[0m\u001b[1;33m)\u001b[0m\u001b[1;33m,\u001b[0m \u001b[1;34m'Database version not found: {}'\u001b[0m\u001b[1;33m.\u001b[0m\u001b[0mformat\u001b[0m\u001b[1;33m(\u001b[0m\u001b[0mself\u001b[0m\u001b[1;33m.\u001b[0m\u001b[0mtable_root\u001b[0m\u001b[1;33m)\u001b[0m\u001b[1;33m\u001b[0m\u001b[1;33m\u001b[0m\u001b[0m\n\u001b[0m\u001b[0;32m     63\u001b[0m \u001b[1;33m\u001b[0m\u001b[0m\n\u001b[0;32m     64\u001b[0m         \u001b[0mstart_time\u001b[0m \u001b[1;33m=\u001b[0m \u001b[0mtime\u001b[0m\u001b[1;33m.\u001b[0m\u001b[0mtime\u001b[0m\u001b[1;33m(\u001b[0m\u001b[1;33m)\u001b[0m\u001b[1;33m\u001b[0m\u001b[1;33m\u001b[0m\u001b[0m\n",
      "\u001b[1;31mAssertionError\u001b[0m: Database version not found: E:\\lxhLearning\\学习资料--研\\自动驾驶\nuscenes\\v1.0-trainval"
     ]
    }
   ],
   "source": [
    "import matplotlib.pyplot as plt, numpy as np\n",
    "from nuscenes.nuscenes import NuScenes, NuScenesExplorer\n",
    "from nuscenes.utils.data_classes import Box\n",
    "from pyquaternion import Quaternion\n",
    "# NuScenes path\n",
    "nusc = NuScenes(version='v1.0-trainval', dataroot=r'E:\\lxhLearning\\学习资料--研\\自动驾驶\\nuscenes', verbose=True)\n",
    "nuscExp = NuScenesExplorer(nusc)"
   ]
  },
  {
   "cell_type": "code",
   "execution_count": 2,
   "metadata": {},
   "outputs": [
    {
     "ename": "NameError",
     "evalue": "name 'nusc' is not defined",
     "output_type": "error",
     "traceback": [
      "\u001b[1;31m---------------------------------------------------------------------------\u001b[0m",
      "\u001b[1;31mNameError\u001b[0m                                 Traceback (most recent call last)",
      "\u001b[1;32m~\\AppData\\Local\\Temp\\ipykernel_27772\\1939582081.py\u001b[0m in \u001b[0;36m<module>\u001b[1;34m\u001b[0m\n\u001b[0;32m     37\u001b[0m              'color': 'blue'}\n\u001b[0;32m     38\u001b[0m             ]\n\u001b[1;32m---> 39\u001b[1;33m \u001b[0mbox_list\u001b[0m \u001b[1;33m=\u001b[0m \u001b[0mcoordinate_conversion\u001b[0m\u001b[1;33m(\u001b[0m\u001b[0mbox_list\u001b[0m\u001b[1;33m,\u001b[0m \u001b[0msample_token\u001b[0m\u001b[1;33m)\u001b[0m\u001b[1;33m\u001b[0m\u001b[1;33m\u001b[0m\u001b[0m\n\u001b[0m",
      "\u001b[1;32m~\\AppData\\Local\\Temp\\ipykernel_27772\\1939582081.py\u001b[0m in \u001b[0;36mcoordinate_conversion\u001b[1;34m(box_list, sample_token)\u001b[0m\n\u001b[0;32m     17\u001b[0m                 \u001b[0morientation\u001b[0m\u001b[1;33m=\u001b[0m\u001b[0mQuaternion\u001b[0m\u001b[1;33m(\u001b[0m\u001b[0mbox\u001b[0m\u001b[1;33m[\u001b[0m\u001b[1;34m'rotation'\u001b[0m\u001b[1;33m]\u001b[0m\u001b[1;33m)\u001b[0m\u001b[1;33m,\u001b[0m\u001b[1;33m\u001b[0m\u001b[1;33m\u001b[0m\u001b[0m\n\u001b[0;32m     18\u001b[0m                 color=box['color'])\n\u001b[1;32m---> 19\u001b[1;33m         \u001b[0msample_data_token\u001b[0m \u001b[1;33m=\u001b[0m \u001b[0mnusc\u001b[0m\u001b[1;33m.\u001b[0m\u001b[0mget\u001b[0m\u001b[1;33m(\u001b[0m\u001b[1;34m'sample'\u001b[0m\u001b[1;33m,\u001b[0m\u001b[0msample_token\u001b[0m\u001b[1;33m)\u001b[0m\u001b[1;33m[\u001b[0m\u001b[1;34m'data'\u001b[0m\u001b[1;33m]\u001b[0m\u001b[1;33m[\u001b[0m\u001b[1;34m'RADAR_FRONT'\u001b[0m\u001b[1;33m]\u001b[0m\u001b[1;33m\u001b[0m\u001b[1;33m\u001b[0m\u001b[0m\n\u001b[0m\u001b[0;32m     20\u001b[0m         \u001b[0msd_record\u001b[0m \u001b[1;33m=\u001b[0m \u001b[0mnusc\u001b[0m\u001b[1;33m.\u001b[0m\u001b[0mget\u001b[0m\u001b[1;33m(\u001b[0m\u001b[1;34m'sample_data'\u001b[0m\u001b[1;33m,\u001b[0m \u001b[0msample_data_token\u001b[0m\u001b[1;33m)\u001b[0m\u001b[1;33m\u001b[0m\u001b[1;33m\u001b[0m\u001b[0m\n\u001b[0;32m     21\u001b[0m         \u001b[0mpose_record\u001b[0m \u001b[1;33m=\u001b[0m \u001b[0mnusc\u001b[0m\u001b[1;33m.\u001b[0m\u001b[0mget\u001b[0m\u001b[1;33m(\u001b[0m\u001b[1;34m'ego_pose'\u001b[0m\u001b[1;33m,\u001b[0m \u001b[0msd_record\u001b[0m\u001b[1;33m[\u001b[0m\u001b[1;34m'ego_pose_token'\u001b[0m\u001b[1;33m]\u001b[0m\u001b[1;33m)\u001b[0m\u001b[1;33m\u001b[0m\u001b[1;33m\u001b[0m\u001b[0m\n",
      "\u001b[1;31mNameError\u001b[0m: name 'nusc' is not defined"
     ]
    }
   ],
   "source": [
    "# Define class Box_with_color based on class Box\n",
    "class Box_with_color(Box):\n",
    "    def __init__(self, center, size, orientation: Quaternion, color = 0):\n",
    "        super().__init__(center, size, orientation)\n",
    "        self.color = color\n",
    "def coordinate_conversion(box_list, sample_token):\n",
    "    \"\"\"\n",
    "    Convert the global coordinate system to the background coordinate system\n",
    "    Param:\n",
    "        box_list: list of box.\n",
    "        sample_token: sample_token of background.\n",
    "    \"\"\"\n",
    "    new_box_list = []\n",
    "    for box in box_list:\n",
    "        box = Box_with_color(center=box['translation'],\n",
    "                size=box['size'],\n",
    "                orientation=Quaternion(box['rotation']),\n",
    "                color=box['color'])\n",
    "        sample_data_token = nusc.get('sample',sample_token)['data']['RADAR_FRONT']\n",
    "        sd_record = nusc.get('sample_data', sample_data_token)\n",
    "        pose_record = nusc.get('ego_pose', sd_record['ego_pose_token'])\n",
    "        yaw = Quaternion(pose_record['rotation']).yaw_pitch_roll[0]\n",
    "        box.translate(-np.array(pose_record['translation']))\n",
    "        box.rotate(Quaternion(scalar=np.cos(yaw / 2), vector=[0, 0, np.sin(yaw / 2)]).inverse)\n",
    "        new_box_list.append(box)\n",
    "    return new_box_list\n",
    "# Give sample_token of frame to render as background\n",
    "sample_token = '98c0d0cc9433448188e863580619445d'\n",
    "# Boxes from the result file\n",
    "box_list = [{'translation': [2021.1061218457126, 2338.378097645742, 1.0813693483270628], \n",
    "             'size': [1.9181417226791382, 4.633460998535156, 1.6746224164962769], \n",
    "             'rotation': [0.2839252749183466, -0.002326623526533283, 0.01552589453234281, 0.9587178790887739], \n",
    "             'color': 'red'},\n",
    "            {'translation': [2014.7999540195915, 2342.3674033016014, 1.1028629004764436], \n",
    "             'size': [1.9022479057312012, 4.5171895027160645, 1.6788620948791504], \n",
    "             'rotation': [0.2877885120352462, -0.00022193294043439072, 0.016492640131474414, 0.957551939013129], \n",
    "             'color': 'blue'}\n",
    "            ]\n",
    "box_list = coordinate_conversion(box_list, sample_token)"
   ]
  },
  {
   "cell_type": "code",
   "execution_count": 3,
   "metadata": {},
   "outputs": [
    {
     "ename": "NameError",
     "evalue": "name 'nusc' is not defined",
     "output_type": "error",
     "traceback": [
      "\u001b[1;31m---------------------------------------------------------------------------\u001b[0m",
      "\u001b[1;31mNameError\u001b[0m                                 Traceback (most recent call last)",
      "\u001b[1;32m~\\AppData\\Local\\Temp\\ipykernel_27772\\125914649.py\u001b[0m in \u001b[0;36m<module>\u001b[1;34m\u001b[0m\n\u001b[0;32m     26\u001b[0m         \u001b[0mplt\u001b[0m\u001b[1;33m.\u001b[0m\u001b[0msavefig\u001b[0m\u001b[1;33m(\u001b[0m\u001b[0mout_path\u001b[0m\u001b[1;33m)\u001b[0m\u001b[1;33m\u001b[0m\u001b[1;33m\u001b[0m\u001b[0m\n\u001b[0;32m     27\u001b[0m     \u001b[0mplt\u001b[0m\u001b[1;33m.\u001b[0m\u001b[0mshow\u001b[0m\u001b[1;33m(\u001b[0m\u001b[1;33m)\u001b[0m\u001b[1;33m\u001b[0m\u001b[1;33m\u001b[0m\u001b[0m\n\u001b[1;32m---> 28\u001b[1;33m \u001b[0mrender_sample\u001b[0m\u001b[1;33m(\u001b[0m\u001b[0mout_path\u001b[0m \u001b[1;33m=\u001b[0m \u001b[1;32mNone\u001b[0m\u001b[1;33m,\u001b[0m \u001b[0maxes_limit\u001b[0m \u001b[1;33m=\u001b[0m \u001b[1;36m60\u001b[0m\u001b[1;33m,\u001b[0m \u001b[0mbox_list\u001b[0m\u001b[1;33m=\u001b[0m\u001b[0mbox_list\u001b[0m\u001b[1;33m,\u001b[0m \u001b[0msample_token\u001b[0m\u001b[1;33m=\u001b[0m\u001b[0msample_token\u001b[0m\u001b[1;33m)\u001b[0m\u001b[1;33m\u001b[0m\u001b[1;33m\u001b[0m\u001b[0m\n\u001b[0m",
      "\u001b[1;32m~\\AppData\\Local\\Temp\\ipykernel_27772\\125914649.py\u001b[0m in \u001b[0;36mrender_sample\u001b[1;34m(out_path, axes_limit, box_list, sample_token)\u001b[0m\n\u001b[0;32m     11\u001b[0m     \"\"\"\n\u001b[0;32m     12\u001b[0m     \u001b[0mfig\u001b[0m\u001b[1;33m,\u001b[0m \u001b[0max\u001b[0m \u001b[1;33m=\u001b[0m \u001b[0mplt\u001b[0m\u001b[1;33m.\u001b[0m\u001b[0msubplots\u001b[0m\u001b[1;33m(\u001b[0m\u001b[0mfigsize\u001b[0m \u001b[1;33m=\u001b[0m \u001b[1;33m(\u001b[0m\u001b[1;36m10\u001b[0m\u001b[1;33m,\u001b[0m\u001b[1;36m10\u001b[0m\u001b[1;33m)\u001b[0m\u001b[1;33m)\u001b[0m\u001b[1;33m\u001b[0m\u001b[1;33m\u001b[0m\u001b[0m\n\u001b[1;32m---> 13\u001b[1;33m     \u001b[0msample_data_token\u001b[0m \u001b[1;33m=\u001b[0m \u001b[0mnusc\u001b[0m\u001b[1;33m.\u001b[0m\u001b[0mget\u001b[0m\u001b[1;33m(\u001b[0m\u001b[1;34m'sample'\u001b[0m\u001b[1;33m,\u001b[0m \u001b[0msample_token\u001b[0m\u001b[1;33m)\u001b[0m\u001b[1;33m[\u001b[0m\u001b[1;34m'data'\u001b[0m\u001b[1;33m]\u001b[0m\u001b[1;33m[\u001b[0m\u001b[1;34m'RADAR_FRONT'\u001b[0m\u001b[1;33m]\u001b[0m\u001b[1;33m\u001b[0m\u001b[1;33m\u001b[0m\u001b[0m\n\u001b[0m\u001b[0;32m     14\u001b[0m     \u001b[0mnuscExp\u001b[0m\u001b[1;33m.\u001b[0m\u001b[0mrender_ego_centric_map\u001b[0m\u001b[1;33m(\u001b[0m\u001b[0msample_data_token\u001b[0m\u001b[1;33m=\u001b[0m\u001b[0msample_data_token\u001b[0m\u001b[1;33m,\u001b[0m \u001b[0maxes_limit\u001b[0m\u001b[1;33m=\u001b[0m\u001b[0maxes_limit\u001b[0m\u001b[1;33m,\u001b[0m \u001b[0max\u001b[0m\u001b[1;33m=\u001b[0m\u001b[0max\u001b[0m\u001b[1;33m)\u001b[0m\u001b[1;33m\u001b[0m\u001b[1;33m\u001b[0m\u001b[0m\n\u001b[0;32m     15\u001b[0m     \u001b[0mcolor\u001b[0m \u001b[1;33m=\u001b[0m \u001b[1;33m{\u001b[0m\u001b[1;34m'blue'\u001b[0m\u001b[1;33m:\u001b[0m\u001b[1;33m(\u001b[0m\u001b[1;36m0\u001b[0m\u001b[1;33m,\u001b[0m\u001b[1;36m0\u001b[0m\u001b[1;33m,\u001b[0m\u001b[1;36m230\u001b[0m\u001b[1;33m)\u001b[0m\u001b[1;33m,\u001b[0m\u001b[1;34m'red'\u001b[0m\u001b[1;33m:\u001b[0m\u001b[1;33m(\u001b[0m\u001b[1;36m255\u001b[0m\u001b[1;33m,\u001b[0m\u001b[1;36m0\u001b[0m\u001b[1;33m,\u001b[0m\u001b[1;36m0\u001b[0m\u001b[1;33m)\u001b[0m\u001b[1;33m,\u001b[0m\u001b[1;34m'purple'\u001b[0m\u001b[1;33m:\u001b[0m\u001b[1;33m(\u001b[0m\u001b[1;36m255\u001b[0m\u001b[1;33m,\u001b[0m\u001b[1;36m0\u001b[0m\u001b[1;33m,\u001b[0m\u001b[1;36m255\u001b[0m\u001b[1;33m)\u001b[0m\u001b[1;33m,\u001b[0m\u001b[1;34m'green'\u001b[0m\u001b[1;33m:\u001b[0m\u001b[1;33m(\u001b[0m\u001b[1;36m0\u001b[0m\u001b[1;33m,\u001b[0m\u001b[1;36m255\u001b[0m\u001b[1;33m,\u001b[0m\u001b[1;36m0\u001b[0m\u001b[1;33m)\u001b[0m\u001b[1;33m,\u001b[0m\u001b[1;34m'black'\u001b[0m\u001b[1;33m:\u001b[0m\u001b[1;33m(\u001b[0m\u001b[1;36m0\u001b[0m\u001b[1;33m,\u001b[0m\u001b[1;36m0\u001b[0m\u001b[1;33m,\u001b[0m\u001b[1;36m0\u001b[0m\u001b[1;33m)\u001b[0m\u001b[1;33m}\u001b[0m\u001b[1;33m\u001b[0m\u001b[1;33m\u001b[0m\u001b[0m\n",
      "\u001b[1;31mNameError\u001b[0m: name 'nusc' is not defined"
     ]
    },
    {
     "data": {
      "image/png": "[encoded data removed]",
      "text/plain": [
       "<Figure size 1000x1000 with 1 Axes>"
      ]
     },
     "metadata": {},
     "output_type": "display_data"
    }
   ],
   "source": [
    "def render_sample(out_path: str = None,\n",
    "                  axes_limit = None,\n",
    "                  box_list = None,\n",
    "                  sample_token = None) -> None:\n",
    "    \"\"\"\n",
    "    Param:\n",
    "        out_path: Optional path to save the rendered figure to disk.\n",
    "        axes_limit: range to render.\n",
    "        box_list: boxes to render.\n",
    "        sample_token: sample token.\n",
    "    \"\"\"\n",
    "    fig, ax = plt.subplots(figsize = (10,10))\n",
    "    sample_data_token = nusc.get('sample', sample_token)['data']['RADAR_FRONT']\n",
    "    nuscExp.render_ego_centric_map(sample_data_token=sample_data_token, axes_limit=axes_limit, ax=ax)\n",
    "    color = {'blue':(0,0,230),'red':(255,0,0),'purple':(255,0,255),'green':(0,255,0),'black':(0,0,0)}\n",
    "    for box in box_list:\n",
    "        if abs(box.center[0]) > axes_limit or abs(box.center[1]) > axes_limit:\n",
    "            continue\n",
    "        c = np.array(color[box.color]) / 255.0\n",
    "        box.render(ax, view=np.eye(4), colors=(c, c, c),linewidth=1.5)\n",
    "    ax.set_xlim(-axes_limit+5, axes_limit)\n",
    "    ax.set_ylim(-axes_limit+5, axes_limit)\n",
    "    ax.axis('off')\n",
    "    ax.set_aspect('equal')\n",
    "    if out_path is not None:\n",
    "        plt.savefig(out_path)\n",
    "    plt.show()\n",
    "render_sample(out_path = None, axes_limit = 60, box_list=box_list, sample_token=sample_token)"
   ]
  },
  {
   "cell_type": "code",
   "execution_count": null,
   "metadata": {},
   "outputs": [],
   "source": []
  }
 ],
 "metadata": {
  "kernelspec": {
   "display_name": "Python 3 (ipykernel)",
   "language": "python",
   "name": "python3"
  },
  "language_info": {
   "codemirror_mode": {
    "name": "ipython",
    "version": 3
   },
   "file_extension": ".py",
   "mimetype": "text/x-python",
   "name": "python",
   "nbconvert_exporter": "python",
   "pygments_lexer": "ipython3",
   "version": "3.7.12"
  }
 },
 "nbformat": 4,
 "nbformat_minor": 2
}
